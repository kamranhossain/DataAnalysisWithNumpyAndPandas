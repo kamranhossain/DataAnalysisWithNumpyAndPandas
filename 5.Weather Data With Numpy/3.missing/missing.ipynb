{
 "cells": [
  {
   "cell_type": "markdown",
   "metadata": {},
   "source": [
    "## Stations"
   ]
  },
  {
   "cell_type": "code",
   "execution_count": 1,
   "metadata": {
    "collapsed": true
   },
   "outputs": [],
   "source": [
    "import numpy as np\n",
    "import matplotlib.pyplot as pp\n",
    "import seaborn"
   ]
  },
  {
   "cell_type": "code",
   "execution_count": 2,
   "metadata": {
    "collapsed": true
   },
   "outputs": [],
   "source": [
    "%matplotlib inline"
   ]
  },
  {
   "cell_type": "code",
   "execution_count": 3,
   "metadata": {
    "collapsed": false
   },
   "outputs": [],
   "source": [
    "# import urllib.request\n",
    "# urllib.request.urlretrieve('ftp://ftp.ncdc.noaa.gov/pub/data/ghcn/daily/ghcnd-stations.txt','stations.txt')"
   ]
  },
  {
   "cell_type": "code",
   "execution_count": 4,
   "metadata": {
    "collapsed": false
   },
   "outputs": [
    {
     "data": {
      "text/plain": [
       "['ACW00011604  17.1167  -61.7833   10.1    ST JOHNS COOLIDGE FLD                       \\n',\n",
       " 'ACW00011647  17.1333  -61.7833   19.2    ST JOHNS                                    \\n',\n",
       " 'AE000041196  25.3330   55.5170   34.0    SHARJAH INTER. AIRP            GSN     41196\\n',\n",
       " 'AEM00041194  25.2550   55.3640   10.4    DUBAI INTL                             41194\\n',\n",
       " 'AEM00041217  24.4330   54.6510   26.8    ABU DHABI INTL                         41217\\n',\n",
       " 'AEM00041218  24.2620   55.6090  264.9    AL AIN INTL                            41218\\n',\n",
       " 'AF000040930  35.3170   69.0170 3366.0    NORTH-SALANG                   GSN     40930\\n',\n",
       " 'AFM00040938  34.2100   62.2280  977.2    HERAT                                  40938\\n',\n",
       " 'AFM00040948  34.5660   69.2120 1791.3    KABUL INTL                             40948\\n',\n",
       " 'AFM00040990  31.5000   65.8500 1010.0    KANDAHAR AIRPORT                       40990\\n']"
      ]
     },
     "execution_count": 4,
     "metadata": {},
     "output_type": "execute_result"
    }
   ],
   "source": [
    "open('stations.txt','r').readlines()[:10]"
   ]
  },
  {
   "cell_type": "code",
   "execution_count": 5,
   "metadata": {
    "collapsed": true
   },
   "outputs": [],
   "source": [
    "stations = {}\n",
    "\n",
    "for line in open('stations.txt','r'):\n",
    "    if 'GSN' in line:\n",
    "        fields = line.split()\n",
    "        \n",
    "        stations[fields[0]] = ' '.join(fields[4:])"
   ]
  },
  {
   "cell_type": "code",
   "execution_count": 6,
   "metadata": {
    "collapsed": false
   },
   "outputs": [
    {
     "data": {
      "text/plain": [
       "994"
      ]
     },
     "execution_count": 6,
     "metadata": {},
     "output_type": "execute_result"
    }
   ],
   "source": [
    "len(stations)"
   ]
  },
  {
   "cell_type": "code",
   "execution_count": 7,
   "metadata": {
    "collapsed": true
   },
   "outputs": [],
   "source": [
    "def findstation(s):\n",
    "    found = {code: name for code,name in stations.items() if s in name}\n",
    "    print(found)"
   ]
  },
  {
   "cell_type": "code",
   "execution_count": 8,
   "metadata": {
    "collapsed": false
   },
   "outputs": [
    {
     "name": "stdout",
     "output_type": "stream",
     "text": [
      "{'USW00022536': 'HI LIHUE WSO AP 1020.1 GSN 91165'}\n"
     ]
    }
   ],
   "source": [
    "findstation('LIHUE')"
   ]
  },
  {
   "cell_type": "code",
   "execution_count": 9,
   "metadata": {
    "collapsed": false
   },
   "outputs": [
    {
     "name": "stdout",
     "output_type": "stream",
     "text": [
      "{'USW00023188': 'CA SAN DIEGO LINDBERGH FLD GSN 72290'}\n"
     ]
    }
   ],
   "source": [
    "findstation('SAN DIEGO')"
   ]
  },
  {
   "cell_type": "code",
   "execution_count": 10,
   "metadata": {
    "collapsed": false
   },
   "outputs": [
    {
     "name": "stdout",
     "output_type": "stream",
     "text": [
      "{'USW00014922': 'MN MINNEAPOLIS/ST PAUL AP GSN HCN 72658'}\n"
     ]
    }
   ],
   "source": [
    "findstation('MINNEAPOLIS')"
   ]
  },
  {
   "cell_type": "code",
   "execution_count": 11,
   "metadata": {
    "collapsed": false
   },
   "outputs": [
    {
     "name": "stdout",
     "output_type": "stream",
     "text": [
      "{'RSM00030710': 'IRKUTSK GSN 30710'}\n"
     ]
    }
   ],
   "source": [
    "findstation('IRKUTSK')"
   ]
  },
  {
   "cell_type": "code",
   "execution_count": 12,
   "metadata": {
    "collapsed": true
   },
   "outputs": [],
   "source": [
    "datastations = ['USW00022536','USW00023188','USW00014922','RSM00030710']"
   ]
  },
  {
   "cell_type": "markdown",
   "metadata": {},
   "source": [
    "## Temperature"
   ]
  },
  {
   "cell_type": "code",
   "execution_count": 13,
   "metadata": {
    "collapsed": false
   },
   "outputs": [
    {
     "data": {
      "text/plain": [
       "['USW00022536195002TMAX  256  0  256  0  256  0  267  0  217  0  228  0  256  0  272  0  256  0  256  0  256  0  244  0  256  0  256  0  244  0  244  0  250  0  256  0  239  0  250  0  256  0  256  0  267  0  261  0  267  0  267  0  261  0  261  0-9999   -9999   -9999   \\n',\n",
       " 'USW00022536195002TMIN  178  0  156  0  161  0  167  0  167  0  167  0  189  0  211  0  206  0  217  0  217  0  211  0  200  0  200  0  206  0  183  0  206  0  206  0  206  0  194  0  206  0  200  0  206  0  200  0  211  0  183  0  172  0  200  0-9999   -9999   -9999   \\n',\n",
       " 'USW00022536195002PRCP    0  0    0  0    0  0    0  0  737  0  406  0   36  0   38  0    0T 0    0T 0    0  0    0T 0   18  0    5  0   10  0   18  0   15  0    5  0    0T 0    0T 0   23  0   10  0    3  0   48  0    0T 0    0T 0    0T 0    5  0-9999   -9999   -9999   \\n',\n",
       " 'USW00022536195002SNOW    0  0    0  0    0  0    0  0    0  0    0  0    0  0    0  0    0  0    0  0    0  0    0  0    0  0    0  0    0  0    0  0    0  0    0  0    0  0    0  0    0  0    0  0    0  0    0  0    0  0    0  0    0  0    0  0-9999   -9999   -9999   \\n',\n",
       " 'USW00022536195002SNWD    0  0    0  0    0  0    0  0    0  0    0  0    0  0    0  0    0  0    0  0    0  0    0  0    0  0    0  0    0  0    0  0    0  0    0  0    0  0    0  0    0  0    0  0    0  0    0  0    0  0    0  0    0  0    0  0-9999   -9999   -9999   \\n',\n",
       " 'USW00022536195002WT03-9999   -9999   -9999   -9999       1  0-9999   -9999   -9999   -9999   -9999   -9999   -9999   -9999   -9999   -9999   -9999   -9999   -9999   -9999   -9999   -9999   -9999   -9999   -9999   -9999   -9999   -9999   -9999   -9999   -9999   -9999   \\n',\n",
       " 'USW00022536195002WT16-9999   -9999   -9999   -9999       1  X    1  X    1  X    1  X    1  X    1  X-9999       1  X    1  X    1  X    1  X    1  X    1  X    1  X    1  X    1  X    1  X    1  X    1  X    1  X    1  X    1  X    1  X    1  X-9999   -9999   -9999   \\n',\n",
       " 'USW00022536195003TMAX  261  0  261  0  272  0  278  0  250  0  233  0  256  0  272  0  233  0  233  0  239  0  244  0  256  0  261  0  256  0  261  0  272  0  261  0  267  0  244  0  256  0  261  0  250  0  256  0  261  0  256  0  256  0  250  0  244  0  239  0  222  0\\n',\n",
       " 'USW00022536195003TMIN  211  0  172  0  144  0  139  0  156  0  178  0  200  0  156  0  172  0  161  0  178  0  189  0  189  0  200  0  189  0  183  0  200  0  194  0  200  0  194  0  206  0  200  0  194  0  189  0  200  0  194  0  194  0  189  0  178  0  189  0  161  0\\n',\n",
       " 'USW00022536195003PRCP    0T 0    3  0    0  0    0T 0  135  0    0T 0    0  0   41  0  876  0   30  0   20  0    0T 0    0T 0   10  0    0  0    0  0    0  0    3  0    0T 0   25  0    8  0    8  0   18  0   15  0    3  0   91  0   56  0   10  0    5  0    0T 0   61  0\\n']"
      ]
     },
     "execution_count": 13,
     "metadata": {},
     "output_type": "execute_result"
    }
   ],
   "source": [
    "open('USW00022536.dly','r').readlines()[:10]"
   ]
  },
  {
   "cell_type": "code",
   "execution_count": 14,
   "metadata": {
    "collapsed": false
   },
   "outputs": [
    {
     "data": {
      "text/plain": [
       "['------------------------------\\n',\n",
       " 'Variable   Columns   Type\\n',\n",
       " '------------------------------\\n',\n",
       " 'ID            1-11   Character\\n',\n",
       " 'YEAR         12-15   Integer\\n',\n",
       " 'MONTH        16-17   Integer\\n',\n",
       " 'ELEMENT      18-21   Character\\n',\n",
       " 'VALUE1       22-26   Integer\\n',\n",
       " 'MFLAG1       27-27   Character\\n',\n",
       " 'QFLAG1       28-28   Character\\n',\n",
       " 'SFLAG1       29-29   Character\\n',\n",
       " 'VALUE2       30-34   Integer\\n',\n",
       " 'MFLAG2       35-35   Character\\n',\n",
       " 'QFLAG2       36-36   Character\\n',\n",
       " 'SFLAG2       37-37   Character\\n',\n",
       " '  .           .          .\\n',\n",
       " '  .           .          .\\n',\n",
       " '  .           .          .\\n',\n",
       " 'VALUE31    262-266   Integer\\n',\n",
       " 'MFLAG31    267-267   Character\\n',\n",
       " 'QFLAG31    268-268   Character\\n',\n",
       " 'SFLAG31    269-269   Character\\n',\n",
       " '------------------------------\\n']"
      ]
     },
     "execution_count": 14,
     "metadata": {},
     "output_type": "execute_result"
    }
   ],
   "source": [
    "open('readme.txt','r').readlines()[98:121]"
   ]
  },
  {
   "cell_type": "code",
   "execution_count": 15,
   "metadata": {
    "collapsed": true
   },
   "outputs": [],
   "source": [
    "def parsefile(filename):\n",
    "    return np.genfromtxt(filename,\n",
    "                         delimiter = dly_delimiter,\n",
    "                         usecols = dly_usecols,\n",
    "                         dtype = dly_dtype,\n",
    "                         names = dly_names)"
   ]
  },
  {
   "cell_type": "code",
   "execution_count": 16,
   "metadata": {
    "collapsed": true
   },
   "outputs": [],
   "source": [
    "dly_delimiter = [11,4,2,4] + [5,1,1,1] * 31\n",
    "dly_usecols = [1,2,3] + [4*i for i in range(1,32)]\n",
    "dly_dtype = [np.int32,np.int32,(np.str_,4)] + [np.int32] * 31\n",
    "dly_names = ['year','month','obs'] + [str(day) for day in range(1,31+1)]"
   ]
  },
  {
   "cell_type": "code",
   "execution_count": 17,
   "metadata": {
    "collapsed": true
   },
   "outputs": [],
   "source": [
    "lihue = parsefile('USW00022536.dly')"
   ]
  },
  {
   "cell_type": "code",
   "execution_count": 18,
   "metadata": {
    "collapsed": false
   },
   "outputs": [
    {
     "data": {
      "text/plain": [
       "array([ (1950, 2, 'TMAX', 256, 256, 256, 267, 217, 228, 256, 272, 256, 256, 256, 244, 256, 256, 244, 244, 250, 256, 239, 250, 256, 256, 267, 261, 267, 267, 261, 261, -9999, -9999, -9999),\n",
       "       (1950, 2, 'TMIN', 178, 156, 161, 167, 167, 167, 189, 211, 206, 217, 217, 211, 200, 200, 206, 183, 206, 206, 206, 194, 206, 200, 206, 200, 211, 183, 172, 200, -9999, -9999, -9999),\n",
       "       (1950, 2, 'PRCP', 0, 0, 0, 0, 737, 406, 36, 38, 0, 0, 0, 0, 18, 5, 10, 18, 15, 5, 0, 0, 23, 10, 3, 48, 0, 0, 0, 5, -9999, -9999, -9999),\n",
       "       ...,\n",
       "       (2015, 9, 'WT03', -9999, -9999, -9999, -9999, -9999, -9999, -9999, -9999, -9999, 1, -9999, 1, -9999, -9999, -9999, -9999, -9999, -9999, -9999, -9999, -9999, -9999, -9999, -9999, -9999, -9999, -9999, -9999, -9999, -9999, -9999),\n",
       "       (2015, 9, 'WT08', -9999, -9999, -9999, -9999, -9999, -9999, -9999, -9999, -9999, -9999, 1, -9999, -9999, -9999, 1, -9999, -9999, -9999, -9999, -9999, -9999, -9999, -9999, 1, 1, -9999, -9999, -9999, -9999, -9999, -9999),\n",
       "       (2015, 9, 'WT10', -9999, -9999, -9999, -9999, -9999, -9999, -9999, -9999, -9999, -9999, 1, -9999, -9999, -9999, -9999, -9999, -9999, -9999, -9999, -9999, -9999, -9999, -9999, -9999, -9999, -9999, -9999, -9999, -9999, -9999, -9999)], \n",
       "      dtype=[('year', '<i4'), ('month', '<i4'), ('obs', '<U4'), ('1', '<i4'), ('2', '<i4'), ('3', '<i4'), ('4', '<i4'), ('5', '<i4'), ('6', '<i4'), ('7', '<i4'), ('8', '<i4'), ('9', '<i4'), ('10', '<i4'), ('11', '<i4'), ('12', '<i4'), ('13', '<i4'), ('14', '<i4'), ('15', '<i4'), ('16', '<i4'), ('17', '<i4'), ('18', '<i4'), ('19', '<i4'), ('20', '<i4'), ('21', '<i4'), ('22', '<i4'), ('23', '<i4'), ('24', '<i4'), ('25', '<i4'), ('26', '<i4'), ('27', '<i4'), ('28', '<i4'), ('29', '<i4'), ('30', '<i4'), ('31', '<i4')])"
      ]
     },
     "execution_count": 18,
     "metadata": {},
     "output_type": "execute_result"
    }
   ],
   "source": [
    "lihue"
   ]
  },
  {
   "cell_type": "code",
   "execution_count": 19,
   "metadata": {
    "collapsed": true
   },
   "outputs": [],
   "source": [
    "def unroll(record):\n",
    "    startdate = np.datetime64('{}-{:02}'.format(record['year'],record['month']))\n",
    "    dates = np.arange(startdate,startdate + np.timedelta64(1,'M'),np.timedelta64(1,'D'))\n",
    "    \n",
    "    rows = [(date,record[str(i+1)]/10) for i,date in enumerate(dates)]\n",
    "    \n",
    "    return np.array(rows,dtype=[('date','M8[D]'),('value','d')])"
   ]
  },
  {
   "cell_type": "code",
   "execution_count": 20,
   "metadata": {
    "collapsed": false
   },
   "outputs": [
    {
     "data": {
      "text/plain": [
       "array([(datetime.date(1950, 2, 1), 25.6),\n",
       "       (datetime.date(1950, 2, 2), 25.6),\n",
       "       (datetime.date(1950, 2, 3), 25.6),\n",
       "       (datetime.date(1950, 2, 4), 26.7),\n",
       "       (datetime.date(1950, 2, 5), 21.7),\n",
       "       (datetime.date(1950, 2, 6), 22.8),\n",
       "       (datetime.date(1950, 2, 7), 25.6),\n",
       "       (datetime.date(1950, 2, 8), 27.2),\n",
       "       (datetime.date(1950, 2, 9), 25.6),\n",
       "       (datetime.date(1950, 2, 10), 25.6),\n",
       "       (datetime.date(1950, 2, 11), 25.6),\n",
       "       (datetime.date(1950, 2, 12), 24.4),\n",
       "       (datetime.date(1950, 2, 13), 25.6),\n",
       "       (datetime.date(1950, 2, 14), 25.6),\n",
       "       (datetime.date(1950, 2, 15), 24.4),\n",
       "       (datetime.date(1950, 2, 16), 24.4),\n",
       "       (datetime.date(1950, 2, 17), 25.0),\n",
       "       (datetime.date(1950, 2, 18), 25.6),\n",
       "       (datetime.date(1950, 2, 19), 23.9),\n",
       "       (datetime.date(1950, 2, 20), 25.0),\n",
       "       (datetime.date(1950, 2, 21), 25.6),\n",
       "       (datetime.date(1950, 2, 22), 25.6),\n",
       "       (datetime.date(1950, 2, 23), 26.7),\n",
       "       (datetime.date(1950, 2, 24), 26.1),\n",
       "       (datetime.date(1950, 2, 25), 26.7),\n",
       "       (datetime.date(1950, 2, 26), 26.7),\n",
       "       (datetime.date(1950, 2, 27), 26.1),\n",
       "       (datetime.date(1950, 2, 28), 26.1)], \n",
       "      dtype=[('date', '<M8[D]'), ('value', '<f8')])"
      ]
     },
     "execution_count": 20,
     "metadata": {},
     "output_type": "execute_result"
    }
   ],
   "source": [
    "unroll(lihue[0])"
   ]
  },
  {
   "cell_type": "code",
   "execution_count": 21,
   "metadata": {
    "collapsed": true
   },
   "outputs": [],
   "source": [
    "def getobs(filename,obs):\n",
    "    return np.concatenate([unroll(row) for row in parsefile(filename) if row[2] == obs])"
   ]
  },
  {
   "cell_type": "code",
   "execution_count": 22,
   "metadata": {
    "collapsed": false
   },
   "outputs": [
    {
     "data": {
      "text/plain": [
       "array([(datetime.date(1950, 2, 1), 17.8),\n",
       "       (datetime.date(1950, 2, 2), 15.6),\n",
       "       (datetime.date(1950, 2, 3), 16.1), ...,\n",
       "       (datetime.date(2015, 9, 28), -999.9),\n",
       "       (datetime.date(2015, 9, 29), -999.9),\n",
       "       (datetime.date(2015, 9, 30), -999.9)], \n",
       "      dtype=[('date', '<M8[D]'), ('value', '<f8')])"
      ]
     },
     "execution_count": 22,
     "metadata": {},
     "output_type": "execute_result"
    }
   ],
   "source": [
    "getobs('USW00022536.dly','TMIN')"
   ]
  },
  {
   "cell_type": "markdown",
   "metadata": {},
   "source": [
    "## Integrated Missing Data\n",
    "### with boolean mask indexing and numpy.interp"
   ]
  },
  {
   "cell_type": "code",
   "execution_count": 23,
   "metadata": {
    "collapsed": true
   },
   "outputs": [],
   "source": [
    "lihue_tmax = getobs('USW00022536.dly','TMAX')\n",
    "lihue_tmin = getobs('USW00022536.dly','TMIN')"
   ]
  },
  {
   "cell_type": "code",
   "execution_count": 24,
   "metadata": {
    "collapsed": false
   },
   "outputs": [
    {
     "data": {
      "text/plain": [
       "[<matplotlib.lines.Line2D at 0x7fad5f51e208>]"
      ]
     },
     "execution_count": 24,
     "metadata": {},
     "output_type": "execute_result"
    },
    {
     "data": {
      "image/png": "[encoded data removed]",
      "text/plain": [
       "<matplotlib.figure.Figure at 0x7fad60fda4e0>"
      ]
     },
     "metadata": {},
     "output_type": "display_data"
    }
   ],
   "source": [
    "pp.plot(lihue_tmax['date'],lihue_tmax['value'])"
   ]
  },
  {
   "cell_type": "code",
   "execution_count": 25,
   "metadata": {
    "collapsed": true
   },
   "outputs": [],
   "source": [
    "def getobs(filename,obs):\n",
    "    data = np.concatenate([unroll(row) for row in parsefile(filename) if row[2] == obs])\n",
    "    \n",
    "    data['value'][data['value'] == -999.9] = np.nan\n",
    "    \n",
    "    return data"
   ]
  },
  {
   "cell_type": "code",
   "execution_count": 26,
   "metadata": {
    "collapsed": true
   },
   "outputs": [],
   "source": [
    "lihue_tmax = getobs('USW00022536.dly','TMAX')\n",
    "lihue_tmin = getobs('USW00022536.dly','TMIN')"
   ]
  },
  {
   "cell_type": "code",
   "execution_count": 27,
   "metadata": {
    "collapsed": false
   },
   "outputs": [
    {
     "data": {
      "text/plain": [
       "[<matplotlib.lines.Line2D at 0x7fad6090df60>]"
      ]
     },
     "execution_count": 27,
     "metadata": {},
     "output_type": "execute_result"
    },
    {
     "data": {
      "image/png": "[encoded data removed]",
      "text/plain": [
       "<matplotlib.figure.Figure at 0x7fad5f07bb70>"
      ]
     },
     "metadata": {},
     "output_type": "display_data"
    }
   ],
   "source": [
    "pp.plot(lihue_tmax['date'],lihue_tmax['value'])"
   ]
  },
  {
   "cell_type": "code",
   "execution_count": 28,
   "metadata": {
    "collapsed": false
   },
   "outputs": [
    {
     "data": {
      "text/plain": [
       "[<matplotlib.lines.Line2D at 0x7fad5ca660f0>]"
      ]
     },
     "execution_count": 28,
     "metadata": {},
     "output_type": "execute_result"
    },
    {
     "data": {
      "image/png": "[encoded data removed]",
      "text/plain": [
       "<matplotlib.figure.Figure at 0x7fad5ca2bf98>"
      ]
     },
     "metadata": {},
     "output_type": "display_data"
    }
   ],
   "source": [
    "pp.plot(lihue_tmax['date'],lihue_tmax['value'])\n",
    "pp.plot(lihue_tmin['date'],lihue_tmin['value'])"
   ]
  },
  {
   "cell_type": "code",
   "execution_count": 30,
   "metadata": {
    "collapsed": false
   },
   "outputs": [
    {
     "data": {
      "text/plain": [
       "(nan, nan)"
      ]
     },
     "execution_count": 30,
     "metadata": {},
     "output_type": "execute_result"
    }
   ],
   "source": [
    "np.mean(lihue_tmin['value']), np.mean(lihue_tmax['value'])"
   ]
  },
  {
   "cell_type": "code",
   "execution_count": 31,
   "metadata": {
    "collapsed": false
   },
   "outputs": [
    {
     "data": {
      "text/plain": [
       "[0, 8, 0, 12]"
      ]
     },
     "execution_count": 31,
     "metadata": {},
     "output_type": "execute_result"
    },
    {
     "data": {
      "image/png": "[encoded data removed]",
      "text/plain": [
       "<matplotlib.figure.Figure at 0x7fad60793ba8>"
      ]
     },
     "metadata": {},
     "output_type": "display_data"
    }
   ],
   "source": [
    "x = np.array([1,3,5,7],'d')\n",
    "y = np.array([10,5,2,7],'d')\n",
    "\n",
    "pp.plot(x,y,'o')\n",
    "\n",
    "pp.axis([0,8,0,12])"
   ]
  },
  {
   "cell_type": "code",
   "execution_count": 32,
   "metadata": {
    "collapsed": true
   },
   "outputs": [],
   "source": [
    "xs = np.linspace(1,7)"
   ]
  },
  {
   "cell_type": "code",
   "execution_count": 33,
   "metadata": {
    "collapsed": true
   },
   "outputs": [],
   "source": [
    "ys = np.interp(xs,x,y)"
   ]
  },
  {
   "cell_type": "code",
   "execution_count": 34,
   "metadata": {
    "collapsed": false
   },
   "outputs": [
    {
     "data": {
      "text/plain": [
       "[0, 8, 0, 12]"
      ]
     },
     "execution_count": 34,
     "metadata": {},
     "output_type": "execute_result"
    },
    {
     "data": {
      "image/png": "[encoded data removed]",
      "text/plain": [
       "<matplotlib.figure.Figure at 0x7fad606fce48>"
      ]
     },
     "metadata": {},
     "output_type": "display_data"
    }
   ],
   "source": [
    "pp.plot(xs,ys,'.')\n",
    "pp.plot(x,y,'o')\n",
    "\n",
    "pp.axis([0,8,0,12])"
   ]
  },
  {
   "cell_type": "code",
   "execution_count": 35,
   "metadata": {
    "collapsed": true
   },
   "outputs": [],
   "source": [
    "def fillnans(data):\n",
    "    nan = np.isnan(data['value'])\n",
    "    \n",
    "    data['value'][nan] = np.interp(data['date'][nan],data['date'][~nan],data['value'][~nan])"
   ]
  },
  {
   "cell_type": "code",
   "execution_count": 38,
   "metadata": {
    "collapsed": false
   },
   "outputs": [
    {
     "ename": "TypeError",
     "evalue": "Cannot cast array data from dtype('<M8[D]') to dtype('float64') according to the rule 'safe'",
     "output_type": "error",
     "traceback": [
      "\u001b[1;31m---------------------------------------------------------------------------\u001b[0m",
      "\u001b[1;31mTypeError\u001b[0m                                 Traceback (most recent call last)",
      "\u001b[1;32m<ipython-input-38-420f10501eea>\u001b[0m in \u001b[0;36m<module>\u001b[1;34m()\u001b[0m\n\u001b[1;32m----> 1\u001b[1;33m \u001b[0mfillnans\u001b[0m\u001b[1;33m(\u001b[0m\u001b[0mlihue_tmax\u001b[0m\u001b[1;33m)\u001b[0m\u001b[1;33m\u001b[0m\u001b[0m\n\u001b[0m",
      "\u001b[1;32m<ipython-input-35-cbef5010b650>\u001b[0m in \u001b[0;36mfillnans\u001b[1;34m(data)\u001b[0m\n\u001b[0;32m      2\u001b[0m     \u001b[0mnan\u001b[0m \u001b[1;33m=\u001b[0m \u001b[0mnp\u001b[0m\u001b[1;33m.\u001b[0m\u001b[0misnan\u001b[0m\u001b[1;33m(\u001b[0m\u001b[0mdata\u001b[0m\u001b[1;33m[\u001b[0m\u001b[1;34m'value'\u001b[0m\u001b[1;33m]\u001b[0m\u001b[1;33m)\u001b[0m\u001b[1;33m\u001b[0m\u001b[0m\n\u001b[0;32m      3\u001b[0m \u001b[1;33m\u001b[0m\u001b[0m\n\u001b[1;32m----> 4\u001b[1;33m     \u001b[0mdata\u001b[0m\u001b[1;33m[\u001b[0m\u001b[1;34m'value'\u001b[0m\u001b[1;33m]\u001b[0m\u001b[1;33m[\u001b[0m\u001b[0mnan\u001b[0m\u001b[1;33m]\u001b[0m \u001b[1;33m=\u001b[0m \u001b[0mnp\u001b[0m\u001b[1;33m.\u001b[0m\u001b[0minterp\u001b[0m\u001b[1;33m(\u001b[0m\u001b[0mdata\u001b[0m\u001b[1;33m[\u001b[0m\u001b[1;34m'date'\u001b[0m\u001b[1;33m]\u001b[0m\u001b[1;33m[\u001b[0m\u001b[0mnan\u001b[0m\u001b[1;33m]\u001b[0m\u001b[1;33m,\u001b[0m\u001b[0mdata\u001b[0m\u001b[1;33m[\u001b[0m\u001b[1;34m'date'\u001b[0m\u001b[1;33m]\u001b[0m\u001b[1;33m[\u001b[0m\u001b[1;33m~\u001b[0m\u001b[0mnan\u001b[0m\u001b[1;33m]\u001b[0m\u001b[1;33m,\u001b[0m\u001b[0mdata\u001b[0m\u001b[1;33m[\u001b[0m\u001b[1;34m'value'\u001b[0m\u001b[1;33m]\u001b[0m\u001b[1;33m[\u001b[0m\u001b[1;33m~\u001b[0m\u001b[0mnan\u001b[0m\u001b[1;33m]\u001b[0m\u001b[1;33m)\u001b[0m\u001b[1;33m\u001b[0m\u001b[0m\n\u001b[0m",
      "\u001b[1;32m/home/k/anaconda3/lib/python3.5/site-packages/numpy/lib/function_base.py\u001b[0m in \u001b[0;36minterp\u001b[1;34m(x, xp, fp, left, right, period)\u001b[0m\n\u001b[0;32m   1672\u001b[0m             \u001b[1;32mreturn\u001b[0m \u001b[0mcompiled_interp\u001b[0m\u001b[1;33m(\u001b[0m\u001b[1;33m[\u001b[0m\u001b[0mx\u001b[0m\u001b[1;33m]\u001b[0m\u001b[1;33m,\u001b[0m \u001b[0mxp\u001b[0m\u001b[1;33m,\u001b[0m \u001b[0mfp\u001b[0m\u001b[1;33m,\u001b[0m \u001b[0mleft\u001b[0m\u001b[1;33m,\u001b[0m \u001b[0mright\u001b[0m\u001b[1;33m)\u001b[0m\u001b[1;33m.\u001b[0m\u001b[0mitem\u001b[0m\u001b[1;33m(\u001b[0m\u001b[1;33m)\u001b[0m\u001b[1;33m\u001b[0m\u001b[0m\n\u001b[0;32m   1673\u001b[0m         \u001b[1;32melse\u001b[0m\u001b[1;33m:\u001b[0m\u001b[1;33m\u001b[0m\u001b[0m\n\u001b[1;32m-> 1674\u001b[1;33m             \u001b[1;32mreturn\u001b[0m \u001b[0mcompiled_interp\u001b[0m\u001b[1;33m(\u001b[0m\u001b[0mx\u001b[0m\u001b[1;33m,\u001b[0m \u001b[0mxp\u001b[0m\u001b[1;33m,\u001b[0m \u001b[0mfp\u001b[0m\u001b[1;33m,\u001b[0m \u001b[0mleft\u001b[0m\u001b[1;33m,\u001b[0m \u001b[0mright\u001b[0m\u001b[1;33m)\u001b[0m\u001b[1;33m\u001b[0m\u001b[0m\n\u001b[0m\u001b[0;32m   1675\u001b[0m     \u001b[1;32melse\u001b[0m\u001b[1;33m:\u001b[0m\u001b[1;33m\u001b[0m\u001b[0m\n\u001b[0;32m   1676\u001b[0m         \u001b[1;32mif\u001b[0m \u001b[0mperiod\u001b[0m \u001b[1;33m==\u001b[0m \u001b[1;36m0\u001b[0m\u001b[1;33m:\u001b[0m\u001b[1;33m\u001b[0m\u001b[0m\n",
      "\u001b[1;31mTypeError\u001b[0m: Cannot cast array data from dtype('<M8[D]') to dtype('float64') according to the rule 'safe'"
     ]
    }
   ],
   "source": [
    "fillnans(lihue_tmax)"
   ]
  },
  {
   "cell_type": "code",
   "execution_count": 41,
   "metadata": {
    "collapsed": true
   },
   "outputs": [],
   "source": [
    "def fillnans(data):\n",
    "    dates_float = data['date'].astype(np.float64)\n",
    "    nan = np.isnan(data['value'])\n",
    "    \n",
    "    data['value'][nan] = np.interp(dates_float[nan],dates_float[~nan],data['value'][~nan])"
   ]
  },
  {
   "cell_type": "code",
   "execution_count": 43,
   "metadata": {
    "collapsed": false
   },
   "outputs": [],
   "source": [
    "fillnans(lihue_tmax)\n",
    "fillnans(lihue_tmin)"
   ]
  },
  {
   "cell_type": "code",
   "execution_count": 45,
   "metadata": {
    "collapsed": false
   },
   "outputs": [
    {
     "data": {
      "text/plain": [
       "(21.051530250594173, 27.300908977192176)"
      ]
     },
     "execution_count": 45,
     "metadata": {},
     "output_type": "execute_result"
    }
   ],
   "source": [
    "np.mean(lihue_tmin['value']), np.mean(lihue_tmax['value'])"
   ]
  },
  {
   "cell_type": "code",
   "execution_count": null,
   "metadata": {
    "collapsed": true
   },
   "outputs": [],
   "source": []
  }
 ],
 "metadata": {
  "anaconda-cloud": {},
  "kernelspec": {
   "display_name": "Python [Root]",
   "language": "python",
   "name": "Python [Root]"
  },
  "language_info": {
   "codemirror_mode": {
    "name": "ipython",
    "version": 3
   },
   "file_extension": ".py",
   "mimetype": "text/x-python",
   "name": "python",
   "nbconvert_exporter": "python",
   "pygments_lexer": "ipython3",
   "version": "3.5.2"
  }
 },
 "nbformat": 4,
 "nbformat_minor": 0
}
